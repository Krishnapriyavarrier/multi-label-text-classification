{
 "cells": [
  {
   "cell_type": "code",
   "execution_count": 1,
   "metadata": {
    "collapsed": false,
    "deletable": true,
    "editable": true
   },
   "outputs": [],
   "source": [
    "import pickle as pkl\n",
    "import numpy as np\n",
    "\n",
    "import os\n",
    "\n",
    "from scipy import sparse  as sp\n",
    "\n",
    "from fastxml import Trainer, Inferencer\n",
    "from eval_helpers import precision_at_ks"
   ]
  },
  {
   "cell_type": "code",
   "execution_count": 2,
   "metadata": {
    "collapsed": true,
    "deletable": true,
    "editable": true
   },
   "outputs": [],
   "source": [
    "import tensorflow as tf\n",
    "\n",
    "tf.flags.DEFINE_string('data_dir', 'data/stackexchange/datascience/', 'directory of dataset')\n",
    "tf.flags.DEFINE_integer('tag_freq_threshold', 5, 'minimum frequency of a tag')\n",
    "\n",
    "FLAGS = tf.flags.FLAGS\n",
    "FLAGS._parse_flags()\n",
    "\n",
    "data_dir = FLAGS.data_dir\n",
    "\n"
   ]
  },
  {
   "cell_type": "code",
   "execution_count": 3,
   "metadata": {
    "collapsed": true,
    "deletable": true,
    "editable": true
   },
   "outputs": [],
   "source": [
    "X = pkl.load(open(os.path.join(data_dir, \"X.pkl\"), 'rb'))\n",
    "Y = pkl.load(open(os.path.join(data_dir, \"Y.pkl\"), 'rb'))"
   ]
  },
  {
   "cell_type": "code",
   "execution_count": 11,
   "metadata": {
    "collapsed": false
   },
   "outputs": [],
   "source": [
    "X.data = np.asarray(X.data, dtype=np.float32)"
   ]
  },
  {
   "cell_type": "code",
   "execution_count": 12,
   "metadata": {
    "collapsed": true,
    "deletable": true,
    "editable": true
   },
   "outputs": [],
   "source": [
    "from sklearn.cross_validation import train_test_split\n",
    "X_train, X_test, Y_train, Y_test = train_test_split(X, Y, train_size=0.8, random_state=42)"
   ]
  },
  {
   "cell_type": "code",
   "execution_count": 15,
   "metadata": {
    "collapsed": false
   },
   "outputs": [
    {
     "name": "stdout",
     "output_type": "stream",
     "text": [
      "precision at 1: 0.11904362416107381\n",
      "precision at 3: 0.24400167785234897\n",
      "precision at 5: 0.305341163310962\n",
      "precision at 10: 0.4204977628635347\n"
     ]
    }
   ],
   "source": [
    "# fastxml\n",
    "\n",
    "model_path = os.path.join(data_dir, 'fastxml.model')\n",
    "\n",
    "trainer = Trainer(n_trees=32, n_jobs=-1)\n",
    "\n",
    "trainer.fit(list(X_train), Y_train)\n",
    "\n",
    "trainer.save(model_path)\n",
    "\n",
    "clf = Inferencer(model_path)\n",
    "\n",
    "pred = clf.predict(X_test)\n",
    "precision_at_ks(pred, Y_test)"
   ]
  },
  {
   "cell_type": "code",
   "execution_count": 16,
   "metadata": {
    "collapsed": false
   },
   "outputs": [
    {
     "name": "stdout",
     "output_type": "stream",
     "text": [
      "precision at 1: 0.11559004474272931\n",
      "precision at 3: 0.2470357941834452\n",
      "precision at 5: 0.3138282997762864\n",
      "precision at 10: 0.427572706935123\n"
     ]
    }
   ],
   "source": [
    "# PFastreXML\n",
    "from fastxml.weights import propensity\n",
    "\n",
    "model_path = os.path.join(data_dir, 'pfastrexml.model')\n",
    "\n",
    "weights = propensity(Y_train)\n",
    "\n",
    "trainer = Trainer(n_trees=32, n_jobs=-1, leaf_classifiers=True)\n",
    "\n",
    "trainer.fit(list(X_train), Y_train, weights)\n",
    "\n",
    "trainer.save(model_path)\n",
    "\n",
    "clf = Inferencer(model_path)\n",
    "\n",
    "pred = clf.predict(X_test)\n",
    "precision_at_ks(pred, Y_test)"
   ]
  }
 ],
 "metadata": {
  "kernelspec": {
   "display_name": "Python 3",
   "language": "python",
   "name": "python3"
  },
  "language_info": {
   "codemirror_mode": {
    "name": "ipython",
    "version": 3
   },
   "file_extension": ".py",
   "mimetype": "text/x-python",
   "name": "python",
   "nbconvert_exporter": "python",
   "pygments_lexer": "ipython3",
   "version": "3.5.2"
  }
 },
 "nbformat": 4,
 "nbformat_minor": 2
}
