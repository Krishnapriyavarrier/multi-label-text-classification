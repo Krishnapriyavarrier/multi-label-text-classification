{
 "cells": [
  {
   "cell_type": "code",
   "execution_count": 1,
   "metadata": {
    "collapsed": false,
    "deletable": true,
    "editable": true
   },
   "outputs": [
    {
     "name": "stdout",
     "output_type": "stream",
     "text": [
      "dataset containing 13934 records\n"
     ]
    }
   ],
   "source": [
    "# coding: utf-8\n",
    "\n",
    "import os\n",
    "import re\n",
    "import pandas as pd\n",
    "import pickle as pkl\n",
    "import itertools\n",
    "import tensorflow as tf\n",
    "from data_helpers import strip_tags, clean_str\n",
    "\n",
    "\n",
    "tf.flags.DEFINE_string('data_dir', 'data/stackexchange/datascience', 'directory of dataset')\n",
    "tf.flags.DEFINE_integer('tag_freq_threshold', 0, 'minimum frequency of a tag')\n",
    "\n",
    "FLAGS = tf.flags.FLAGS\n",
    "FLAGS._parse_flags()\n",
    "\n",
    "data_dir = FLAGS.data_dir\n",
    "tag_freq_threshold = FLAGS.tag_freq_threshold\n",
    "\n",
    "\n",
    "label_path = os.path.join(data_dir, \"labels.csv\")\n",
    "text_path = os.path.join(data_dir, \"input_text.csv\")\n",
    "df = pd.read_csv('{}/posts.csv'.format(data_dir), sep=',')\n",
    "\n",
    "\n",
    "print(\"dataset containing {} records\".format(df.shape[0]))\n"
   ]
  },
  {
   "cell_type": "code",
   "execution_count": 2,
   "metadata": {
    "collapsed": false,
    "deletable": true,
    "editable": true
   },
   "outputs": [],
   "source": [
    "target_question_ids = set(pkl.load(open('{}/connected_question_ids.pkl'.format(data_dir), 'rb')))\n",
    "id_target = df['Id'].apply(target_question_ids.__contains__)"
   ]
  },
  {
   "cell_type": "code",
   "execution_count": 3,
   "metadata": {
    "collapsed": false,
    "deletable": true,
    "editable": true
   },
   "outputs": [
    {
     "name": "stdout",
     "output_type": "stream",
     "text": [
      "contains 5145 questions\n"
     ]
    }
   ],
   "source": [
    "qs = df[id_target & (df['PostTypeId'] == 1)]  # we only consider questions here\n",
    "\n",
    "print(\"contains {} questions\".format(qs.shape[0]))\n"
   ]
  },
  {
   "cell_type": "code",
   "execution_count": 4,
   "metadata": {
    "collapsed": false,
    "deletable": true,
    "editable": true
   },
   "outputs": [
    {
     "name": "stdout",
     "output_type": "stream",
     "text": [
      "number of unique labels (frequency>0): 328\n",
      "num. questions with at least one valid labels: 5145\n",
      "saving labels to data/stackexchange/datascience/labels.csv\n",
      "saving input text to data/stackexchange/datascience/input_text.csv\n"
     ]
    }
   ],
   "source": [
    "# extract tags\n",
    "regexp = re.compile(\"<(.+?)>\")\n",
    "\n",
    "\n",
    "def extract_tags(s):\n",
    "    return regexp.findall(s)\n",
    "\n",
    "tags = qs[\"Tags\"].apply(extract_tags).tolist()\n",
    "\n",
    "# filter out infrequent tags\n",
    "tag_freq = pd.Series(list(itertools.chain(*tags))).value_counts()\n",
    "valid_tags = tag_freq.index[tag_freq > tag_freq_threshold]\n",
    "tag_set = set(valid_tags)\n",
    "\n",
    "print('number of unique labels (frequency>{}): {}'.format(\n",
    "    tag_freq_threshold, len(tag_set)))\n",
    "\n",
    "\n",
    "normalized_tags = [[t for t in ts if t in tag_set] for ts in tags]\n",
    "\n",
    "\n",
    "# save labels to file\n",
    "y = pd.Series(list(map(lambda l: \",\".join(l), normalized_tags)), index=qs['Id'])\n",
    "\n",
    "mask = (y.apply(len) > 0).as_matrix()\n",
    "\n",
    "qs = qs[mask]\n",
    "\n",
    "assert y.shape[0] == qs.shape[0]\n",
    "\n",
    "print('num. questions with at least one valid labels: {}'.format(qs.shape[0]))\n",
    "\n",
    "print('saving labels to {}'.format(label_path))\n",
    "y.to_csv(label_path)\n",
    "\n",
    "\n",
    "body = qs['Body'].apply(strip_tags).apply(clean_str)\n",
    "title = qs['Title'].apply(strip_tags).apply(clean_str)\n",
    "\n",
    "# concatenate the texts\n",
    "input_text = pd.Series([' '.join(l) for l in list(zip(title, body))], index=qs['Id'])\n",
    "\n",
    "\n",
    "print(\"saving input text to {}\".format(text_path))\n",
    "input_text.to_csv(text_path)"
   ]
  }
 ],
 "metadata": {
  "kernelspec": {
   "display_name": "Python 3",
   "language": "python",
   "name": "python3"
  },
  "language_info": {
   "codemirror_mode": {
    "name": "ipython",
    "version": 3
   },
   "file_extension": ".py",
   "mimetype": "text/x-python",
   "name": "python",
   "nbconvert_exporter": "python",
   "pygments_lexer": "ipython3",
   "version": "3.5.2"
  }
 },
 "nbformat": 4,
 "nbformat_minor": 2
}
