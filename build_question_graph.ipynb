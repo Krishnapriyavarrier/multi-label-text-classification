{
 "cells": [
  {
   "cell_type": "code",
   "execution_count": 43,
   "metadata": {
    "collapsed": false,
    "deletable": true,
    "editable": true
   },
   "outputs": [],
   "source": [
    "import pandas as pd\n",
    "import numpy as np\n",
    "import itertools\n",
    "import pickle as pkl\n",
    "\n",
    "from graph_tool import Graph\n",
    "from graph_tool.topology import label_largest_component\n",
    "from collections import defaultdict\n",
    "from scipy import sparse as sp"
   ]
  },
  {
   "cell_type": "code",
   "execution_count": 38,
   "metadata": {
    "collapsed": true,
    "deletable": true,
    "editable": true
   },
   "outputs": [],
   "source": [
    "QUESTION = 1\n",
    "\n",
    "data_dir = 'data/stackexchange/datascience'\n",
    "df = pd.read_csv('{}/posts.csv'.format(data_dir), sep=',')\n",
    "\n",
    "# create a graph\n",
    "# each node is a question,\n",
    "# a question is associated with a list of users, including the author of both the question and answers\n",
    "\n",
    "# question to users mapping\n",
    "q2us = defaultdict(set)\n",
    "\n",
    "for i, r in df.iterrows():\n",
    "    pid = None\n",
    "    if r['PostTypeId'] == QUESTION:\n",
    "        pid = int(r['Id'])\n",
    "    else:\n",
    "        parend_id = r['ParentId']\n",
    "        if parend_id > 0:\n",
    "            pid = int(parend_id)\n",
    "\n",
    "    if pid:\n",
    "        uname, uid = r['OwnerDisplayName'], r['OwnerUserId']\n",
    "        if not np.isnan(uid):\n",
    "            q2us[pid].add(int(uid))\n",
    "        elif isinstance(uname, str):\n",
    "            q2us[pid].add(uname)"
   ]
  },
  {
   "cell_type": "code",
   "execution_count": 7,
   "metadata": {
    "collapsed": true,
    "deletable": true,
    "editable": true
   },
   "outputs": [],
   "source": [
    "id2q_map = dict(enumerate(q2us))\n",
    "q2id_map = dict(zip(id2q_map.values(), id2q_map.keys()))"
   ]
  },
  {
   "cell_type": "code",
   "execution_count": 8,
   "metadata": {
    "collapsed": true,
    "deletable": true,
    "editable": true
   },
   "outputs": [],
   "source": [
    "all_users = set(itertools.chain(*q2us.values()))\n",
    "id2u_map = dict(enumerate(all_users))\n",
    "u2id_map = dict(zip(id2u_map.values(), id2u_map.keys()))"
   ]
  },
  {
   "cell_type": "code",
   "execution_count": 9,
   "metadata": {
    "collapsed": true,
    "deletable": true,
    "editable": true
   },
   "outputs": [],
   "source": [
    "# create a bi-partite adjacency matrix, row->question, column->user\n",
    "n_entries = sum(map(len, q2us.values()))\n",
    "data = np.ones(n_entries)\n",
    "row_idx = []\n",
    "col_idx = []\n",
    "for q, us in q2us.items():\n",
    "    row_idx += [q2id_map[q]]*len(us)\n",
    "    col_idx += [u2id_map[u] for u in us]\n",
    "assert len(data) == len(row_idx) == len(col_idx)\n",
    "m = sp.csr_matrix((data, (row_idx, col_idx)), shape=(len(q2id_map), len(u2id_map)))"
   ]
  },
  {
   "cell_type": "code",
   "execution_count": 10,
   "metadata": {
    "collapsed": true,
    "deletable": true,
    "editable": true
   },
   "outputs": [],
   "source": [
    "qm = m * m.T  # question adj matrix via unipartite projection"
   ]
  },
  {
   "cell_type": "code",
   "execution_count": 11,
   "metadata": {
    "collapsed": true
   },
   "outputs": [],
   "source": [
    "g = Graph()"
   ]
  },
  {
   "cell_type": "code",
   "execution_count": 29,
   "metadata": {
    "collapsed": false,
    "deletable": true,
    "editable": true
   },
   "outputs": [],
   "source": [
    "edges = zip(*qm.nonzero())\n",
    "g.add_edge_list(edges)"
   ]
  },
  {
   "cell_type": "code",
   "execution_count": 37,
   "metadata": {
    "collapsed": false,
    "deletable": true,
    "editable": true
   },
   "outputs": [
    {
     "name": "stdout",
     "output_type": "stream",
     "text": [
      "fraciton of nodes in largest cc: 0.8441345365053322\n"
     ]
    }
   ],
   "source": [
    "prop = label_largest_component(g)\n",
    "f = np.sum(prop.a) / len(prop.a)\n",
    "print('fraciton of nodes in largest cc: {}'.format(f))"
   ]
  },
  {
   "cell_type": "code",
   "execution_count": 39,
   "metadata": {
    "collapsed": true
   },
   "outputs": [],
   "source": [
    "g.save('{}/question_graph.gt'.format(data_dir))\n"
   ]
  },
  {
   "cell_type": "code",
   "execution_count": 42,
   "metadata": {
    "collapsed": false
   },
   "outputs": [],
   "source": [
    "\n",
    "pkl.dump(\n",
    "    {'id2q_map': id2q_map, 'q2id_map': q2id_map, 'id2u_map': id2u_map, 'u2id_map': u2id_map},\n",
    "    open('{}/question_id_mapping.pkl'.format(data_dir), 'wb'))"
   ]
  }
 ],
 "metadata": {
  "kernelspec": {
   "display_name": "Python 3",
   "language": "python",
   "name": "python3"
  },
  "language_info": {
   "codemirror_mode": {
    "name": "ipython",
    "version": 3
   },
   "file_extension": ".py",
   "mimetype": "text/x-python",
   "name": "python",
   "nbconvert_exporter": "python",
   "pygments_lexer": "ipython3",
   "version": "3.5.2"
  }
 },
 "nbformat": 4,
 "nbformat_minor": 2
}
