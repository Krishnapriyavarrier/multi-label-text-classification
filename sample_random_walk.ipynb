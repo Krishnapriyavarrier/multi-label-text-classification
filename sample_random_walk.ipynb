{
 "cells": [
  {
   "cell_type": "code",
   "execution_count": 80,
   "metadata": {
    "collapsed": true,
    "deletable": true,
    "editable": true
   },
   "outputs": [],
   "source": [
    "import numpy as np\n",
    "from tqdm import tqdm\n",
    "from graph_tool import Graph, load_graph"
   ]
  },
  {
   "cell_type": "code",
   "execution_count": 3,
   "metadata": {
    "collapsed": true,
    "deletable": true,
    "editable": true
   },
   "outputs": [],
   "source": [
    "data_dir = 'data/stackexchange/datascience/'"
   ]
  },
  {
   "cell_type": "code",
   "execution_count": 2,
   "metadata": {
    "collapsed": true,
    "deletable": true,
    "editable": true
   },
   "outputs": [],
   "source": [
    "# params on random walk\n",
    "num_walks = 10000\n",
    "walk_length = 6\n",
    "\n",
    "# output\n",
    "walks = []  # list of list of nodes"
   ]
  },
  {
   "cell_type": "code",
   "execution_count": 4,
   "metadata": {
    "collapsed": true,
    "deletable": true,
    "editable": true
   },
   "outputs": [],
   "source": [
    "g = load_graph('{}/question_graph.gt'.format(data_dir))"
   ]
  },
  {
   "cell_type": "code",
   "execution_count": 57,
   "metadata": {
    "collapsed": true,
    "deletable": true,
    "editable": true
   },
   "outputs": [],
   "source": [
    "def random_walk(g, start_node, walk_length, alpha=0.05):\n",
    "    \"\"\"\n",
    "    random walk on unweighted, undirected graph\n",
    "    \n",
    "    Args:\n",
    "    alpha: proba of restart\n",
    "    \n",
    "    Returns:\n",
    "    a list of integer list\n",
    "    \"\"\"\n",
    "    walk = [start_node]\n",
    "    c = g.vertex(start_node)\n",
    "    for i in range(walk_length):\n",
    "        if np.random.random() <= alpha:\n",
    "            n = g.vertex(start_node)\n",
    "        else:            \n",
    "            n = np.random.choice(list(c.out_neighbours()))            \n",
    "        c = n\n",
    "        walk.append(int(c))\n",
    "    return walk\n",
    "        \n",
    "            "
   ]
  },
  {
   "cell_type": "code",
   "execution_count": 76,
   "metadata": {
    "collapsed": false,
    "deletable": true,
    "editable": true
   },
   "outputs": [],
   "source": [
    "def yield_n_random_walks(n, g, walk_length, alpha):\n",
    "    nodes = np.arange(g.num_vertices())\n",
    "    while n > 0:\n",
    "        if n >= g.num_vertices():\n",
    "            nodes_to_start = np.arange(g.num_vertices())\n",
    "        else:\n",
    "            nodes_to_start = np.random.choice(nodes, n, replace=False)                        \n",
    "\n",
    "        for v in nodes_to_start:\n",
    "            yield random_walk(g, v, walk_length, alpha)\n",
    "            \n",
    "        n -= len(nodes_to_start)"
   ]
  },
  {
   "cell_type": "code",
   "execution_count": 79,
   "metadata": {
    "collapsed": false,
    "deletable": true,
    "editable": true
   },
   "outputs": [
    {
     "name": "stderr",
     "output_type": "stream",
     "text": [
      "12190it [00:30, 398.61it/s]\n"
     ]
    }
   ],
   "source": [
    "with open('{}/random_walks.txt'.format(data_dir), 'w') as f:\n",
    "    for walk in tqdm(yield_n_random_walks(6095*2, g, 10, 0.05), ):\n",
    "        f.write(' '.join(map(str, walk)) + '\\n')"
   ]
  }
 ],
 "metadata": {
  "kernelspec": {
   "display_name": "Python 3",
   "language": "python",
   "name": "python3"
  },
  "language_info": {
   "codemirror_mode": {
    "name": "ipython",
    "version": 3
   },
   "file_extension": ".py",
   "mimetype": "text/x-python",
   "name": "python",
   "nbconvert_exporter": "python",
   "pygments_lexer": "ipython3",
   "version": "3.5.2"
  }
 },
 "nbformat": 4,
 "nbformat_minor": 2
}
