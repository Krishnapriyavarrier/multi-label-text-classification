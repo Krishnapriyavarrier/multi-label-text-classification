{
 "cells": [
  {
   "cell_type": "code",
   "execution_count": 80,
   "metadata": {
    "collapsed": true
   },
   "outputs": [],
   "source": [
    "import tensorflow as tf\n",
    "import numpy as np\n",
    "from tf_helpers import flatten"
   ]
  },
  {
   "cell_type": "code",
   "execution_count": 81,
   "metadata": {
    "collapsed": true
   },
   "outputs": [],
   "source": [
    "def mimic_filter_maps(x):\n",
    "    \"\"\"\n",
    "    expand dimension to mimic batches of filter maps of shape (batch, height, width, channel)\n",
    "    in this case, width=1, channel=1    \n",
    "    \"\"\"\n",
    "    expanded = np.expand_dims(x, -1)\n",
    "    expanded = np.expand_dims(expanded, -1)\n",
    "    return expanded\n"
   ]
  },
  {
   "cell_type": "code",
   "execution_count": 82,
   "metadata": {
    "collapsed": true
   },
   "outputs": [],
   "source": [
    "# input to the algorithm\n",
    "k = 2\n",
    "x = mimic_filter_maps(np.array([[1, 2, 3, 4], [1, 2, 0, 0], [0, 3, 1, 2]]))\n",
    "y = mimic_filter_maps(np.array([[3, 4], [1, 2], [3, 2]]))"
   ]
  },
  {
   "cell_type": "code",
   "execution_count": 86,
   "metadata": {},
   "outputs": [
    {
     "data": {
      "text/plain": [
       "(3, 4, 1, 1)"
      ]
     },
     "execution_count": 86,
     "metadata": {},
     "output_type": "execute_result"
    }
   ],
   "source": [
    "x.shape"
   ]
  },
  {
   "cell_type": "code",
   "execution_count": 83,
   "metadata": {
    "collapsed": true
   },
   "outputs": [],
   "source": [
    "sess = tf.InteractiveSession()\n",
    "tf_x = tf.constant(x)\n",
    "tf_y = tf.constant(y)"
   ]
  },
  {
   "cell_type": "code",
   "execution_count": 84,
   "metadata": {},
   "outputs": [
    {
     "name": "stdout",
     "output_type": "stream",
     "text": [
      "top_k_values\n",
      " [[3 4]\n",
      " [1 2]\n",
      " [2 3]]\n",
      "top_k_indices\n",
      " [[2 3]\n",
      " [0 1]\n",
      " [3 1]]\n",
      "sorting_indices\n",
      " [[0 1]\n",
      " [0 1]\n",
      " [1 0]]\n"
     ]
    }
   ],
   "source": [
    "tf_x_squeezed = tf.squeeze(tf_x)\n",
    "top_k_values, top_k_indices = tf.nn.top_k(tf_x_squeezed, k=2, sorted=False)\n",
    "sorting_indices = tf.reverse(tf.nn.top_k(top_k_indices, k=top_k_indices.shape[1], sorted=True).indices, axis=[-1])\n",
    "print('top_k_values\\n', top_k_values.eval())\n",
    "print('top_k_indices\\n', top_k_indices.eval())\n",
    "print('sorting_indices\\n', sorting_indices.eval())\n"
   ]
  },
  {
   "cell_type": "code",
   "execution_count": 85,
   "metadata": {},
   "outputs": [
    {
     "name": "stdout",
     "output_type": "stream",
     "text": [
      "[[3 4]\n",
      " [1 2]\n",
      " [3 2]]\n"
     ]
    }
   ],
   "source": [
    "flattened_indices = flatten(sorting_indices)\n",
    "offset_short = tf.range(0, flattened_indices.shape[0], k)\n",
    "offset_col = tf.expand_dims(offset_short, -1)  # to column\n",
    "offset_flattened = tf.tile(offset_col, [1, k])  # repeat on each row\n",
    "offset = flatten(offset_flattened)  # flatten it\n",
    "offset.eval()\n",
    "indices = offset + flattened_indices\n",
    "\n",
    "flattened_values = flatten(top_k_values)\n",
    "reindexed_values_flattened = tf.gather(flattened_values, indices)\n",
    "reindexed_values = tf.reshape(reindexed_values_flattened, [-1, k])\n",
    "print(reindexed_values.eval())"
   ]
  },
  {
   "cell_type": "code",
   "execution_count": null,
   "metadata": {
    "collapsed": true
   },
   "outputs": [],
   "source": [
    "tf.reshape(sorting_indices"
   ]
  },
  {
   "cell_type": "code",
   "execution_count": 12,
   "metadata": {},
   "outputs": [
    {
     "ename": "NameError",
     "evalue": "name 'top_k_values_t' is not defined",
     "output_type": "error",
     "traceback": [
      "\u001b[0;31m---------------------------------------------------------------------------\u001b[0m",
      "\u001b[0;31mNameError\u001b[0m                                 Traceback (most recent call last)",
      "\u001b[0;32m<ipython-input-12-c8da4026abfb>\u001b[0m in \u001b[0;36m<module>\u001b[0;34m()\u001b[0m\n\u001b[0;32m----> 1\u001b[0;31m \u001b[0mtop_k_values\u001b[0m\u001b[0;34m,\u001b[0m \u001b[0mtop_k_indices\u001b[0m \u001b[0;34m=\u001b[0m \u001b[0msess\u001b[0m\u001b[0;34m.\u001b[0m\u001b[0mrun\u001b[0m\u001b[0;34m(\u001b[0m\u001b[0;34m[\u001b[0m\u001b[0mtop_k_values_t\u001b[0m\u001b[0;34m,\u001b[0m \u001b[0mtop_k_indices_t\u001b[0m\u001b[0;34m]\u001b[0m\u001b[0;34m)\u001b[0m\u001b[0;34m\u001b[0m\u001b[0m\n\u001b[0m\u001b[1;32m      2\u001b[0m \u001b[0mprint\u001b[0m\u001b[0;34m(\u001b[0m\u001b[0mtop_k_values\u001b[0m\u001b[0;34m)\u001b[0m\u001b[0;34m\u001b[0m\u001b[0m\n\u001b[1;32m      3\u001b[0m \u001b[0mprint\u001b[0m\u001b[0;34m(\u001b[0m\u001b[0mtop_k_indices\u001b[0m\u001b[0;34m)\u001b[0m\u001b[0;34m\u001b[0m\u001b[0m\n",
      "\u001b[0;31mNameError\u001b[0m: name 'top_k_values_t' is not defined"
     ]
    }
   ],
   "source": [
    "top_k_values, top_k_indices = sess.run([top_k_values, top_k_indices])\n",
    "print(top_k_values)\n",
    "print(top_k_indices)"
   ]
  },
  {
   "cell_type": "code",
   "execution_count": 13,
   "metadata": {
    "collapsed": true
   },
   "outputs": [],
   "source": [
    "tf.gather?"
   ]
  },
  {
   "cell_type": "code",
   "execution_count": 20,
   "metadata": {},
   "outputs": [
    {
     "data": {
      "text/plain": [
       "array([[[2, 3],\n",
       "        [1, 2]],\n",
       "\n",
       "       [[3, 4],\n",
       "        [2, 3]],\n",
       "\n",
       "       [[5, 6],\n",
       "        [4, 5]]], dtype=int32)"
      ]
     },
     "execution_count": 20,
     "metadata": {},
     "output_type": "execute_result"
    }
   ],
   "source": [
    "tf.gather([[1,2,3], [2,3,4], [4,5,6]], [[1, 2], [0, 1]], axis=-1).eval()"
   ]
  }
 ],
 "metadata": {
  "kernelspec": {
   "display_name": "Python 3",
   "language": "python",
   "name": "python3"
  },
  "language_info": {
   "codemirror_mode": {
    "name": "ipython",
    "version": 3
   },
   "file_extension": ".py",
   "mimetype": "text/x-python",
   "name": "python",
   "nbconvert_exporter": "python",
   "pygments_lexer": "ipython3",
   "version": "3.5.2"
  }
 },
 "nbformat": 4,
 "nbformat_minor": 2
}
